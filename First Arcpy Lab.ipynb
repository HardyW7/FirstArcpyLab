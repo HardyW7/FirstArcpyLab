{
 "cells": [
  {
   "cell_type": "markdown",
   "metadata": {},
   "source": [
    "This project was a difficult one to figure out where to start. In the end I tried to think of every step and its goal in terms of the GUI. I kept asking myself what buttons/tools would I use if Python was not involved.  This probably means that my solution is not the most elegant or efficient but it seems to have gotten the job done. Over the course of 3 days I spent probably about 8 hours actually in front of a computer but quite a few more considering a plan of action."
   ]
  },
  {
   "cell_type": "code",
   "execution_count": 60,
   "metadata": {
    "collapsed": false
   },
   "outputs": [],
   "source": [
    "# import system modules and append paths in order to allow for arcpy import\n",
    "import sys\n",
    "sys.path.append('C:\\\\Program Files (x86)\\\\ArcGIS\\\\Desktop10.3\\\\bin')\n",
    "sys.path.append('C:\\\\Program Files (x86)\\\\ArcGIS\\\\Desktop10.3\\\\arcpy')\n",
    "sys.path.append('C:\\\\Program Files (x86)\\\\ArcGIS\\\\Desktop10.3\\\\ArcToolbox\\\\Scripts')\n",
    "import arcpy\n",
    "\n",
    "# necessary code to run the ogr2ogr tool\n",
    "from subprocess import call\n",
    "import os\n",
    "os.environ[\"GDAL_DATA\"] = \"C:\\\\OSGeo4W\\\\share\\\\gdal\"\n",
    "os.environ[\"GDAL_DRIVER_PATH\"] = \"C:\\\\OSGeo4W\\\\bin\\\\gdalplugins\"\n",
    "os.environ[\"PROJ_LIB\"] = \"C:\\\\OSGeo4W\\\\share\\\\proj\"\n",
    "os.environ[\"PATH\"] = \"C:\\\\OSGeo4W\\\\bin;\"+os.environ[\"PATH\"]+\";C:\\\\OSGeo4W\\\\apps\\\\msys\"\n",
    "\n",
    "#set environment workspace and set overwrite feature to True\n",
    "arcpy.env.workspace = \"U:\\\\\"\n",
    "arcpy.env.overwriteOutput = True\n",
    "\n",
    "#set local variables\n",
    "#only area of code that needs to be adjusted with a new dataset\n",
    "fc = \"saep_bg10.shp\"                       #statewide datset\n",
    "table = \"WashingtonFIPS.dbf\"               #county names and fips codes datasets\n",
    "fcField = \"COUNTYFP10\"                     #fc field containing FIPS code\n",
    "tableField = \"FIPSCounty\"                  #table field containing FIPS code\n",
    "field = [\"WashingtonFIPS.CountyName\"]      #field where the county name is held\n",
    "fcTemp = \"fcTemp\"                          #temp filename\n",
    "cntyList = []                              #empty list of county names\n",
    "popField = \"saep_bg10.POP2013\"             #field for pop statistics\n",
    "popYear = \"2013\""
   ]
  },
  {
   "cell_type": "markdown",
   "metadata": {},
   "source": [
    "To begin with I wanted to join together the two files provided. As it turns out the 'JoinField' tool is permanent and takes a very very long time to run. I discovered the 'AddJoin' (its temporary, much faster sibling) via the google machine.  Apparently the 'AddJoin' tool only takes layers as input data so I needed to create a layer copy of the Washington shapefile."
   ]
  },
  {
   "cell_type": "code",
   "execution_count": null,
   "metadata": {
    "collapsed": true
   },
   "outputs": [],
   "source": [
    "#take 'saep_bg10.shp' and 'WashingtonFIPS' data and join them based \n",
    "#on the FIPS code for each record\n",
    "arcpy.MakeFeatureLayer_management(fc,fcTemp)\n",
    "arcpy.AddJoin_management(fcTemp,fcField,table,tableField)"
   ]
  },
  {
   "cell_type": "markdown",
   "metadata": {},
   "source": [
    "This block has two pieces. The second piece was the result of a few different trials. I tried using the 'SelectByAttribute' tool (which needed 'MakeFeastureLayer' and 'CopyFeatures' to make a new shapefile) but after hunting through google found that 'Select_analysis' was supposudely faster. The reason I was concerned about speed: I was trying to use the search cursor to output shapefiles.  I was able to make a new shapefile but the process was done 4000+ times because the code was looping over every record.  To avoid this (hopefully my problem makes sense) I created a list of county names and parsed through that list in the second block rather than through each record.  The ogr2ogr tool was suprisingly easy to implement. I figured that deleting the unwanted shapefiles was good housekeeping."
   ]
  },
  {
   "cell_type": "code",
   "execution_count": null,
   "metadata": {
    "collapsed": true
   },
   "outputs": [],
   "source": [
    "# SearchCursor to look though 'table' and append 'cntyList' with each county name\n",
    "with arcpy.da.SearchCursor(table,\"CountyName\") as cursor:\n",
    "    for row in cursor:\n",
    "        cntyList.append(row[0])\n",
    "\n",
    "#for each of the counties do the following\n",
    "for cntyName in cntyList:\n",
    "    SQL = \"\\\"WashingtonFIPS.CountyName\\\" = \\'%s\\'\"%(cntyName)  #SQL expression\n",
    "    OutputName = \"%s\"%(cntyName)                          #format output name\n",
    "    arcpy.Select_analysis(fcTemp,OutputName,SQL)               #make new layer\n",
    "    call(['C:\\\\OSGeo4W\\\\bin\\\\ogr2ogr',                         #convert layer to .geojson\n",
    "        '-f','GeoJSON','-t_srs','WGS84',\n",
    "        '-s_srs','EPSG:2927',\n",
    "        'U:\\\\' + OutputName + '.geojson',\n",
    "        'U:\\\\' + OutputName + '.shp'])\n",
    "    arcpy.Delete_management(OutputName + '.shp')               #delete shapefile"
   ]
  },
  {
   "cell_type": "markdown",
   "metadata": {},
   "source": [
    "I was stumped for a little while about the population data part of this assignment. I contemplated created lists (in the process learning a fair bit about tuples ad dictiornaries) but couldnt figure out how to get population by county information. Again I thought of the GUI and what tool might be useful and 'Dissolve' came to mind. I found on the internet that I could sort the resulting dissolve file and did so. This left the issue of getting the top ten records from my sorted table and printing them."
   ]
  },
  {
   "cell_type": "code",
   "execution_count": null,
   "metadata": {
    "collapsed": true
   },
   "outputs": [],
   "source": [
    "#Dissolve fcTemp by county to calculate population stats\n",
    "arcpy.Dissolve_management(fcTemp,\"Dissolve_fc\",field,popField + \" SUM\")\n",
    "arcpy.Sort_management(\"Dissolve_fc.shp\",\"Dissolve_sort\",[[\"SUM_saep_b\",\"DESCENDING\"]])\n",
    "\n",
    "#put county and pop data from sorted table to seperate lists\n",
    "counties_sort = [row[0] for row in arcpy.da.SearchCursor(\"Dissolve_sort.shp\",\"Washington\")]\n",
    "pops_sort = [row[0] for row in arcpy.da.SearchCursor(\"Dissolve_sort.shp\",\"SUM_saep_b\")]\n",
    "\n",
    "#print the first 10 items from each list\n",
    "print \"Top Ten Counties by Population:\"\n",
    "for i in range(0,10,1):\n",
    "    print str(counties_sort[i]) + \" County population in \" + popYear + \" \" + str(int(pops_sort[i]))"
   ]
  }
 ],
 "metadata": {
  "kernelspec": {
   "display_name": "Python 2",
   "language": "python",
   "name": "python2"
  },
  "language_info": {
   "codemirror_mode": {
    "name": "ipython",
    "version": 2
   },
   "file_extension": ".py",
   "mimetype": "text/x-python",
   "name": "python",
   "nbconvert_exporter": "python",
   "pygments_lexer": "ipython2",
   "version": "2.7.10"
  }
 },
 "nbformat": 4,
 "nbformat_minor": 0
}
